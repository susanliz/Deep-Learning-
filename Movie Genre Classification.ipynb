{
 "cells": [
  {
   "cell_type": "markdown",
   "id": "b1444ab8",
   "metadata": {},
   "source": [
    "# <span style = \"color:coral\"> Movie Genre Classification </span>"
   ]
  },
  {
   "cell_type": "markdown",
   "id": "38e17156",
   "metadata": {},
   "source": [
    "***"
   ]
  },
  {
   "cell_type": "markdown",
   "id": "3bb2910e",
   "metadata": {},
   "source": [
    "### Import necessary Libraries"
   ]
  },
  {
   "cell_type": "code",
   "execution_count": 52,
   "id": "0f856ab5",
   "metadata": {},
   "outputs": [],
   "source": [
    "import numpy as np\n",
    "import pandas as pd\n",
    "import matplotlib.pyplot as plt\n",
    "import seaborn as sns\n",
    "\n",
    "\n",
    "import re\n",
    "from nltk.stem import WordNetLemmatizer\n",
    "from nltk.corpus import stopwords"
   ]
  },
  {
   "cell_type": "markdown",
   "id": "97eea929",
   "metadata": {},
   "source": [
    "### Read 'train_data.txt' and Store it in a Dataframe Variable"
   ]
  },
  {
   "cell_type": "markdown",
   "id": "d7a4e04a",
   "metadata": {},
   "source": [
    "<span style =\"color:blue\">Use pd.read_fwf to read txt files'</span>"
   ]
  },
  {
   "cell_type": "code",
   "execution_count": 53,
   "id": "c7f66bf4",
   "metadata": {},
   "outputs": [],
   "source": [
    "df = pd.read_csv('train_data.txt',sep = '\\t', names = [0])"
   ]
  },
  {
   "cell_type": "code",
   "execution_count": 54,
   "id": "296fbf9b",
   "metadata": {},
   "outputs": [
    {
     "data": {
      "text/html": [
       "<div>\n",
       "<style scoped>\n",
       "    .dataframe tbody tr th:only-of-type {\n",
       "        vertical-align: middle;\n",
       "    }\n",
       "\n",
       "    .dataframe tbody tr th {\n",
       "        vertical-align: top;\n",
       "    }\n",
       "\n",
       "    .dataframe thead th {\n",
       "        text-align: right;\n",
       "    }\n",
       "</style>\n",
       "<table border=\"1\" class=\"dataframe\">\n",
       "  <thead>\n",
       "    <tr style=\"text-align: right;\">\n",
       "      <th></th>\n",
       "      <th>0</th>\n",
       "    </tr>\n",
       "  </thead>\n",
       "  <tbody>\n",
       "    <tr>\n",
       "      <th>0</th>\n",
       "      <td>1 ::: Oscar et la dame rose (2009) ::: drama :...</td>\n",
       "    </tr>\n",
       "    <tr>\n",
       "      <th>1</th>\n",
       "      <td>2 ::: Cupid (1997) ::: thriller ::: A brother ...</td>\n",
       "    </tr>\n",
       "    <tr>\n",
       "      <th>2</th>\n",
       "      <td>3 ::: Young, Wild and Wonderful (1980) ::: adu...</td>\n",
       "    </tr>\n",
       "    <tr>\n",
       "      <th>3</th>\n",
       "      <td>4 ::: The Secret Sin (1915) ::: drama ::: To h...</td>\n",
       "    </tr>\n",
       "    <tr>\n",
       "      <th>4</th>\n",
       "      <td>5 ::: The Unrecovered (2007) ::: drama ::: The...</td>\n",
       "    </tr>\n",
       "    <tr>\n",
       "      <th>...</th>\n",
       "      <td>...</td>\n",
       "    </tr>\n",
       "    <tr>\n",
       "      <th>54209</th>\n",
       "      <td>54210 ::: \"Bonino\" (1953) ::: comedy ::: This ...</td>\n",
       "    </tr>\n",
       "    <tr>\n",
       "      <th>54210</th>\n",
       "      <td>54211 ::: Dead Girls Don't Cry (????) ::: horr...</td>\n",
       "    </tr>\n",
       "    <tr>\n",
       "      <th>54211</th>\n",
       "      <td>54212 ::: Ronald Goedemondt: Ze bestaan echt (...</td>\n",
       "    </tr>\n",
       "    <tr>\n",
       "      <th>54212</th>\n",
       "      <td>54213 ::: Make Your Own Bed (1944) ::: comedy ...</td>\n",
       "    </tr>\n",
       "    <tr>\n",
       "      <th>54213</th>\n",
       "      <td>54214 ::: Nature's Fury: Storm of the Century ...</td>\n",
       "    </tr>\n",
       "  </tbody>\n",
       "</table>\n",
       "<p>54214 rows × 1 columns</p>\n",
       "</div>"
      ],
      "text/plain": [
       "                                                       0\n",
       "0      1 ::: Oscar et la dame rose (2009) ::: drama :...\n",
       "1      2 ::: Cupid (1997) ::: thriller ::: A brother ...\n",
       "2      3 ::: Young, Wild and Wonderful (1980) ::: adu...\n",
       "3      4 ::: The Secret Sin (1915) ::: drama ::: To h...\n",
       "4      5 ::: The Unrecovered (2007) ::: drama ::: The...\n",
       "...                                                  ...\n",
       "54209  54210 ::: \"Bonino\" (1953) ::: comedy ::: This ...\n",
       "54210  54211 ::: Dead Girls Don't Cry (????) ::: horr...\n",
       "54211  54212 ::: Ronald Goedemondt: Ze bestaan echt (...\n",
       "54212  54213 ::: Make Your Own Bed (1944) ::: comedy ...\n",
       "54213  54214 ::: Nature's Fury: Storm of the Century ...\n",
       "\n",
       "[54214 rows x 1 columns]"
      ]
     },
     "execution_count": 54,
     "metadata": {},
     "output_type": "execute_result"
    }
   ],
   "source": [
    "df"
   ]
  },
  {
   "cell_type": "code",
   "execution_count": 55,
   "id": "664ca38b",
   "metadata": {},
   "outputs": [
    {
     "name": "stdout",
     "output_type": "stream",
     "text": [
      "<class 'pandas.core.frame.DataFrame'>\n"
     ]
    }
   ],
   "source": [
    "print(type(df))"
   ]
  },
  {
   "cell_type": "markdown",
   "id": "a85f6cfe",
   "metadata": {},
   "source": [
    "### Remove all columns except the first ( Zeroth Index)"
   ]
  },
  {
   "cell_type": "code",
   "execution_count": 56,
   "id": "5e123c18",
   "metadata": {},
   "outputs": [],
   "source": [
    "\n",
    "#if type(df) == pd.core.frame.DataFrame:\n",
    "    \n",
    "columns_to_keep = [df.columns[0]]\n",
    "\n",
    "    # Drop all other columns\n",
    "df = df.drop(columns=[col for col in df.columns if col not in columns_to_keep])\n"
   ]
  },
  {
   "cell_type": "code",
   "execution_count": 57,
   "id": "378bfbdb",
   "metadata": {},
   "outputs": [
    {
     "data": {
      "text/plain": [
       "'3 ::: Young, Wild and Wonderful (1980) ::: adult ::: As the bus empties the students for their field trip to the Museum of Natural History, little does the tour guide suspect that the students are there for more than just another tour. First, during the lecture films, the coeds drift into dreams of the most erotic fantasies one can imagine. After the films, they release the emotion of the fantasies in the most erotic and uncommon ways. One slips off to the curator\\'s office for a little \"acquisition. \" Another finds the anthropologist to see what bones can be identified. Even the head teacher isn\\'t immune. Soon the tour is over, but as the bus departs, everyone admits it was quite an education.'"
      ]
     },
     "execution_count": 57,
     "metadata": {},
     "output_type": "execute_result"
    }
   ],
   "source": [
    "df = pd.DataFrame(df)\n",
    "\n",
    "df[0][2]"
   ]
  },
  {
   "cell_type": "markdown",
   "id": "90cd015e",
   "metadata": {},
   "source": [
    "### Fetch the Genres from the text and store it in a new column"
   ]
  },
  {
   "cell_type": "code",
   "execution_count": 58,
   "id": "9a28d3fa",
   "metadata": {},
   "outputs": [],
   "source": [
    "df['Genre'] = df[0].apply(lambda x: x.split('::')[2].split(' ')[1])"
   ]
  },
  {
   "cell_type": "code",
   "execution_count": 91,
   "id": "b67349d8",
   "metadata": {},
   "outputs": [
    {
     "data": {
      "text/plain": [
       "drama          13578\n",
       "documentary    13079\n",
       "comedy          7432\n",
       "short           5061\n",
       "horror          2204\n",
       "thriller        1591\n",
       "action          1313\n",
       "western         1032\n",
       "reality-tv       883\n",
       "family           776\n",
       "adventure        775\n",
       "music            719\n",
       "romance          671\n",
       "sci-fi           647\n",
       "adult            589\n",
       "crime            504\n",
       "animation        498\n",
       "sport            430\n",
       "talk-show        388\n",
       "fantasy          323\n",
       "mystery          319\n",
       "musical          277\n",
       "biography        265\n",
       "history          243\n",
       "game-show        194\n",
       "news             181\n",
       "war              132\n",
       "Big                1\n",
       "Name: Genre, dtype: int64"
      ]
     },
     "execution_count": 91,
     "metadata": {},
     "output_type": "execute_result"
    }
   ],
   "source": [
    "df['Genre'].value_counts()"
   ]
  },
  {
   "cell_type": "code",
   "execution_count": 59,
   "id": "9e15859e",
   "metadata": {},
   "outputs": [
    {
     "data": {
      "text/html": [
       "<div>\n",
       "<style scoped>\n",
       "    .dataframe tbody tr th:only-of-type {\n",
       "        vertical-align: middle;\n",
       "    }\n",
       "\n",
       "    .dataframe tbody tr th {\n",
       "        vertical-align: top;\n",
       "    }\n",
       "\n",
       "    .dataframe thead th {\n",
       "        text-align: right;\n",
       "    }\n",
       "</style>\n",
       "<table border=\"1\" class=\"dataframe\">\n",
       "  <thead>\n",
       "    <tr style=\"text-align: right;\">\n",
       "      <th></th>\n",
       "      <th>0</th>\n",
       "      <th>Genre</th>\n",
       "    </tr>\n",
       "  </thead>\n",
       "  <tbody>\n",
       "    <tr>\n",
       "      <th>0</th>\n",
       "      <td>1 ::: Oscar et la dame rose (2009) ::: drama :...</td>\n",
       "      <td>drama</td>\n",
       "    </tr>\n",
       "    <tr>\n",
       "      <th>1</th>\n",
       "      <td>2 ::: Cupid (1997) ::: thriller ::: A brother ...</td>\n",
       "      <td>thriller</td>\n",
       "    </tr>\n",
       "    <tr>\n",
       "      <th>2</th>\n",
       "      <td>3 ::: Young, Wild and Wonderful (1980) ::: adu...</td>\n",
       "      <td>adult</td>\n",
       "    </tr>\n",
       "    <tr>\n",
       "      <th>3</th>\n",
       "      <td>4 ::: The Secret Sin (1915) ::: drama ::: To h...</td>\n",
       "      <td>drama</td>\n",
       "    </tr>\n",
       "    <tr>\n",
       "      <th>4</th>\n",
       "      <td>5 ::: The Unrecovered (2007) ::: drama ::: The...</td>\n",
       "      <td>drama</td>\n",
       "    </tr>\n",
       "  </tbody>\n",
       "</table>\n",
       "</div>"
      ],
      "text/plain": [
       "                                                   0     Genre\n",
       "0  1 ::: Oscar et la dame rose (2009) ::: drama :...     drama\n",
       "1  2 ::: Cupid (1997) ::: thriller ::: A brother ...  thriller\n",
       "2  3 ::: Young, Wild and Wonderful (1980) ::: adu...     adult\n",
       "3  4 ::: The Secret Sin (1915) ::: drama ::: To h...     drama\n",
       "4  5 ::: The Unrecovered (2007) ::: drama ::: The...     drama"
      ]
     },
     "execution_count": 59,
     "metadata": {},
     "output_type": "execute_result"
    }
   ],
   "source": [
    "df.head()"
   ]
  },
  {
   "cell_type": "markdown",
   "id": "c6f09a78",
   "metadata": {},
   "source": [
    "### Fetch the plot from the text and Store it in a new column"
   ]
  },
  {
   "cell_type": "code",
   "execution_count": 60,
   "id": "b40b7d73",
   "metadata": {},
   "outputs": [
    {
     "data": {
      "text/plain": [
       "0         Listening in to a conversation between his do...\n",
       "1         A brother and sister with a past incestuous r...\n",
       "2         As the bus empties the students for their fie...\n",
       "3         To help their unemployed father make ends mee...\n",
       "4         The film's title refers not only to the un-re...\n",
       "                               ...                        \n",
       "54209     This short-lived NBC live sitcom centered on ...\n",
       "54210     The NEXT Generation of EXPLOITATION. The sist...\n",
       "54211     Ze bestaan echt, is a stand-up comedy about g...\n",
       "54212     Walter and Vivian live in the country and hav...\n",
       "54213     On Labor Day Weekend, 1935, the most intense ...\n",
       "Name: 0, Length: 54214, dtype: object"
      ]
     },
     "execution_count": 60,
     "metadata": {},
     "output_type": "execute_result"
    }
   ],
   "source": [
    "df[0].apply(lambda x:x.split(':::')[3])"
   ]
  },
  {
   "cell_type": "code",
   "execution_count": 61,
   "id": "de706ee0",
   "metadata": {},
   "outputs": [],
   "source": [
    "df['Plot'] = df[0].apply(lambda x:x.split(':::')[3])"
   ]
  },
  {
   "cell_type": "code",
   "execution_count": 62,
   "id": "e9d1d32b",
   "metadata": {},
   "outputs": [
    {
     "data": {
      "text/html": [
       "<div>\n",
       "<style scoped>\n",
       "    .dataframe tbody tr th:only-of-type {\n",
       "        vertical-align: middle;\n",
       "    }\n",
       "\n",
       "    .dataframe tbody tr th {\n",
       "        vertical-align: top;\n",
       "    }\n",
       "\n",
       "    .dataframe thead th {\n",
       "        text-align: right;\n",
       "    }\n",
       "</style>\n",
       "<table border=\"1\" class=\"dataframe\">\n",
       "  <thead>\n",
       "    <tr style=\"text-align: right;\">\n",
       "      <th></th>\n",
       "      <th>0</th>\n",
       "      <th>Genre</th>\n",
       "      <th>Plot</th>\n",
       "    </tr>\n",
       "  </thead>\n",
       "  <tbody>\n",
       "    <tr>\n",
       "      <th>0</th>\n",
       "      <td>1 ::: Oscar et la dame rose (2009) ::: drama :...</td>\n",
       "      <td>drama</td>\n",
       "      <td>Listening in to a conversation between his do...</td>\n",
       "    </tr>\n",
       "    <tr>\n",
       "      <th>1</th>\n",
       "      <td>2 ::: Cupid (1997) ::: thriller ::: A brother ...</td>\n",
       "      <td>thriller</td>\n",
       "      <td>A brother and sister with a past incestuous r...</td>\n",
       "    </tr>\n",
       "    <tr>\n",
       "      <th>2</th>\n",
       "      <td>3 ::: Young, Wild and Wonderful (1980) ::: adu...</td>\n",
       "      <td>adult</td>\n",
       "      <td>As the bus empties the students for their fie...</td>\n",
       "    </tr>\n",
       "    <tr>\n",
       "      <th>3</th>\n",
       "      <td>4 ::: The Secret Sin (1915) ::: drama ::: To h...</td>\n",
       "      <td>drama</td>\n",
       "      <td>To help their unemployed father make ends mee...</td>\n",
       "    </tr>\n",
       "    <tr>\n",
       "      <th>4</th>\n",
       "      <td>5 ::: The Unrecovered (2007) ::: drama ::: The...</td>\n",
       "      <td>drama</td>\n",
       "      <td>The film's title refers not only to the un-re...</td>\n",
       "    </tr>\n",
       "  </tbody>\n",
       "</table>\n",
       "</div>"
      ],
      "text/plain": [
       "                                                   0     Genre  \\\n",
       "0  1 ::: Oscar et la dame rose (2009) ::: drama :...     drama   \n",
       "1  2 ::: Cupid (1997) ::: thriller ::: A brother ...  thriller   \n",
       "2  3 ::: Young, Wild and Wonderful (1980) ::: adu...     adult   \n",
       "3  4 ::: The Secret Sin (1915) ::: drama ::: To h...     drama   \n",
       "4  5 ::: The Unrecovered (2007) ::: drama ::: The...     drama   \n",
       "\n",
       "                                                Plot  \n",
       "0   Listening in to a conversation between his do...  \n",
       "1   A brother and sister with a past incestuous r...  \n",
       "2   As the bus empties the students for their fie...  \n",
       "3   To help their unemployed father make ends mee...  \n",
       "4   The film's title refers not only to the un-re...  "
      ]
     },
     "execution_count": 62,
     "metadata": {},
     "output_type": "execute_result"
    }
   ],
   "source": [
    "df.head()"
   ]
  },
  {
   "cell_type": "markdown",
   "id": "b8a62127",
   "metadata": {},
   "source": [
    "### Drop all columns except Genre and Plot"
   ]
  },
  {
   "cell_type": "code",
   "execution_count": 63,
   "id": "0b74f79b",
   "metadata": {},
   "outputs": [],
   "source": [
    "df = df[['Genre','Plot']]"
   ]
  },
  {
   "cell_type": "code",
   "execution_count": 64,
   "id": "6d3136b4",
   "metadata": {},
   "outputs": [
    {
     "data": {
      "text/html": [
       "<div>\n",
       "<style scoped>\n",
       "    .dataframe tbody tr th:only-of-type {\n",
       "        vertical-align: middle;\n",
       "    }\n",
       "\n",
       "    .dataframe tbody tr th {\n",
       "        vertical-align: top;\n",
       "    }\n",
       "\n",
       "    .dataframe thead th {\n",
       "        text-align: right;\n",
       "    }\n",
       "</style>\n",
       "<table border=\"1\" class=\"dataframe\">\n",
       "  <thead>\n",
       "    <tr style=\"text-align: right;\">\n",
       "      <th></th>\n",
       "      <th>Genre</th>\n",
       "      <th>Plot</th>\n",
       "    </tr>\n",
       "  </thead>\n",
       "  <tbody>\n",
       "    <tr>\n",
       "      <th>0</th>\n",
       "      <td>drama</td>\n",
       "      <td>Listening in to a conversation between his do...</td>\n",
       "    </tr>\n",
       "    <tr>\n",
       "      <th>1</th>\n",
       "      <td>thriller</td>\n",
       "      <td>A brother and sister with a past incestuous r...</td>\n",
       "    </tr>\n",
       "    <tr>\n",
       "      <th>2</th>\n",
       "      <td>adult</td>\n",
       "      <td>As the bus empties the students for their fie...</td>\n",
       "    </tr>\n",
       "    <tr>\n",
       "      <th>3</th>\n",
       "      <td>drama</td>\n",
       "      <td>To help their unemployed father make ends mee...</td>\n",
       "    </tr>\n",
       "    <tr>\n",
       "      <th>4</th>\n",
       "      <td>drama</td>\n",
       "      <td>The film's title refers not only to the un-re...</td>\n",
       "    </tr>\n",
       "  </tbody>\n",
       "</table>\n",
       "</div>"
      ],
      "text/plain": [
       "      Genre                                               Plot\n",
       "0     drama   Listening in to a conversation between his do...\n",
       "1  thriller   A brother and sister with a past incestuous r...\n",
       "2     adult   As the bus empties the students for their fie...\n",
       "3     drama   To help their unemployed father make ends mee...\n",
       "4     drama   The film's title refers not only to the un-re..."
      ]
     },
     "execution_count": 64,
     "metadata": {},
     "output_type": "execute_result"
    }
   ],
   "source": [
    "df.head()"
   ]
  },
  {
   "cell_type": "code",
   "execution_count": 65,
   "id": "ac20d995",
   "metadata": {},
   "outputs": [
    {
     "data": {
      "text/html": [
       "<div>\n",
       "<style scoped>\n",
       "    .dataframe tbody tr th:only-of-type {\n",
       "        vertical-align: middle;\n",
       "    }\n",
       "\n",
       "    .dataframe tbody tr th {\n",
       "        vertical-align: top;\n",
       "    }\n",
       "\n",
       "    .dataframe thead th {\n",
       "        text-align: right;\n",
       "    }\n",
       "</style>\n",
       "<table border=\"1\" class=\"dataframe\">\n",
       "  <thead>\n",
       "    <tr style=\"text-align: right;\">\n",
       "      <th></th>\n",
       "      <th>Genre</th>\n",
       "      <th>Plot</th>\n",
       "    </tr>\n",
       "  </thead>\n",
       "  <tbody>\n",
       "    <tr>\n",
       "      <th>0</th>\n",
       "      <td>drama</td>\n",
       "      <td>Listening in to a conversation between his do...</td>\n",
       "    </tr>\n",
       "    <tr>\n",
       "      <th>1</th>\n",
       "      <td>thriller</td>\n",
       "      <td>A brother and sister with a past incestuous r...</td>\n",
       "    </tr>\n",
       "    <tr>\n",
       "      <th>2</th>\n",
       "      <td>adult</td>\n",
       "      <td>As the bus empties the students for their fie...</td>\n",
       "    </tr>\n",
       "    <tr>\n",
       "      <th>3</th>\n",
       "      <td>drama</td>\n",
       "      <td>To help their unemployed father make ends mee...</td>\n",
       "    </tr>\n",
       "    <tr>\n",
       "      <th>4</th>\n",
       "      <td>drama</td>\n",
       "      <td>The film's title refers not only to the un-re...</td>\n",
       "    </tr>\n",
       "  </tbody>\n",
       "</table>\n",
       "</div>"
      ],
      "text/plain": [
       "      Genre                                               Plot\n",
       "0     drama   Listening in to a conversation between his do...\n",
       "1  thriller   A brother and sister with a past incestuous r...\n",
       "2     adult   As the bus empties the students for their fie...\n",
       "3     drama   To help their unemployed father make ends mee...\n",
       "4     drama   The film's title refers not only to the un-re..."
      ]
     },
     "execution_count": 65,
     "metadata": {},
     "output_type": "execute_result"
    }
   ],
   "source": [
    "df.head()"
   ]
  },
  {
   "cell_type": "markdown",
   "id": "46a66789",
   "metadata": {},
   "source": [
    "#### Check for null values, Remove if any"
   ]
  },
  {
   "cell_type": "code",
   "execution_count": 66,
   "id": "aa1aa870",
   "metadata": {},
   "outputs": [
    {
     "data": {
      "text/plain": [
       "Genre    0\n",
       "Plot     0\n",
       "dtype: int64"
      ]
     },
     "execution_count": 66,
     "metadata": {},
     "output_type": "execute_result"
    }
   ],
   "source": [
    "df.isna().sum()"
   ]
  },
  {
   "cell_type": "markdown",
   "id": "aa1c98e8",
   "metadata": {},
   "source": [
    "### Check for duplicates, Remove if any"
   ]
  },
  {
   "cell_type": "code",
   "execution_count": 67,
   "id": "2bba0e50",
   "metadata": {},
   "outputs": [
    {
     "data": {
      "text/plain": [
       "109"
      ]
     },
     "execution_count": 67,
     "metadata": {},
     "output_type": "execute_result"
    }
   ],
   "source": [
    "df.duplicated().sum()"
   ]
  },
  {
   "cell_type": "code",
   "execution_count": 68,
   "id": "e93b2b25",
   "metadata": {},
   "outputs": [],
   "source": [
    "df.drop_duplicates(inplace=True)"
   ]
  },
  {
   "cell_type": "code",
   "execution_count": 69,
   "id": "8308fc5a",
   "metadata": {},
   "outputs": [
    {
     "data": {
      "text/plain": [
       "0"
      ]
     },
     "execution_count": 69,
     "metadata": {},
     "output_type": "execute_result"
    }
   ],
   "source": [
    "df.duplicated().sum()"
   ]
  },
  {
   "cell_type": "markdown",
   "id": "51d7faf4",
   "metadata": {},
   "source": [
    "### Plot a countplot of Genre"
   ]
  },
  {
   "cell_type": "code",
   "execution_count": 70,
   "id": "16ada8ce",
   "metadata": {},
   "outputs": [
    {
     "data": {
      "text/plain": [
       "<AxesSubplot:xlabel='count', ylabel='Genre'>"
      ]
     },
     "execution_count": 70,
     "metadata": {},
     "output_type": "execute_result"
    },
    {
     "data": {
      "image/png": "[encoded data removed]",
      "text/plain": [
       "<Figure size 720x720 with 1 Axes>"
      ]
     },
     "metadata": {
      "needs_background": "light"
     },
     "output_type": "display_data"
    }
   ],
   "source": [
    "plt.figure(figsize=(10,10))\n",
    "\n",
    "sns.countplot(y=df['Genre'])"
   ]
  },
  {
   "cell_type": "markdown",
   "id": "502587da",
   "metadata": {},
   "source": [
    "### Print some of the texts in Plot"
   ]
  },
  {
   "cell_type": "code",
   "execution_count": 71,
   "id": "ecbb2f1c",
   "metadata": {},
   "outputs": [
    {
     "name": "stdout",
     "output_type": "stream",
     "text": [
      " Listening in to a conversation between his doctor and parents, 10-year-old Oscar learns what nobody has the courage to tell him. He only has a few weeks to live. Furious, he refuses to speak to anyone except straight-talking Rose, the lady in pink he meets on the hospital stairs. As Christmas approaches, Rose uses her fantastical experiences as a professional wrestler, her imagination, wit and charm to allow Oscar to live life and love to the full, in the company of his friends Pop Corn, Einstein, Bacon and childhood sweetheart Peggy Blue.\n",
      "\n",
      " A brother and sister with a past incestuous relationship have a current murderous relationship. He murders the women who reject him and she murders the women who get too close to him.\n",
      "\n",
      " As the bus empties the students for their field trip to the Museum of Natural History, little does the tour guide suspect that the students are there for more than just another tour. First, during the lecture films, the coeds drift into dreams of the most erotic fantasies one can imagine. After the films, they release the emotion of the fantasies in the most erotic and uncommon ways. One slips off to the curator's office for a little \"acquisition. \" Another finds the anthropologist to see what bones can be identified. Even the head teacher isn't immune. Soon the tour is over, but as the bus departs, everyone admits it was quite an education.\n",
      "\n",
      " To help their unemployed father make ends meet, Edith and her twin sister Grace work as seamstresses . An invalid, Grace falls prey to the temptations of Chinatown opium and becomes an addict, a condition worsened by a misguided physician who prescribes morphine to ease her pain. When their father strikes oil, the family enjoys a new prosperity and the sisters meet the eligible Jack Herron, a fellow oil prospector. To Grace's shock, Jack falls in love with Edith and in her jealousy, Grace tells Jack that Edith, not she, has a drug problem. Hinting that her sister will soon need more morphine, Grace arranges for a dinner in Chinatown with the couple. While her sister and Jack dance, Grace slips away to an opium den. Edith follows her, but ends up in the wrong den and is arrested in an ensuing drug raid. After he bails her out of jail, Edith takes an angry Jack to search for Grace and stumbles across her half-conscious body lying in the street. The truth about the sisters is revealed, and after sending Grace to a sanitarium in the country, Jack and Edith are married.\n",
      "\n"
     ]
    }
   ],
   "source": [
    "for i in range(4):\n",
    "    print(df['Plot'][i])\n",
    "    print()"
   ]
  },
  {
   "cell_type": "markdown",
   "id": "7746c0ba",
   "metadata": {},
   "source": [
    "### Convert Genre into numerical values with LabelBinalizer"
   ]
  },
  {
   "cell_type": "code",
   "execution_count": 72,
   "id": "ea922224",
   "metadata": {},
   "outputs": [],
   "source": [
    "from sklearn.preprocessing import LabelBinarizer"
   ]
  },
  {
   "cell_type": "code",
   "execution_count": 73,
   "id": "5381f2d6",
   "metadata": {},
   "outputs": [],
   "source": [
    "lb = LabelBinarizer()"
   ]
  },
  {
   "cell_type": "code",
   "execution_count": 74,
   "id": "5b17e766",
   "metadata": {},
   "outputs": [
    {
     "data": {
      "text/plain": [
       "array([[0, 0, 0, ..., 0, 0, 0],\n",
       "       [0, 0, 0, ..., 1, 0, 0],\n",
       "       [0, 0, 1, ..., 0, 0, 0],\n",
       "       ...,\n",
       "       [0, 0, 0, ..., 0, 0, 0],\n",
       "       [0, 0, 0, ..., 0, 0, 0],\n",
       "       [0, 0, 0, ..., 0, 0, 0]])"
      ]
     },
     "execution_count": 74,
     "metadata": {},
     "output_type": "execute_result"
    }
   ],
   "source": [
    "genre = lb.fit_transform(df['Genre'])\n",
    "genre"
   ]
  },
  {
   "cell_type": "code",
   "execution_count": null,
   "id": "a6feec93",
   "metadata": {},
   "outputs": [],
   "source": []
  },
  {
   "cell_type": "markdown",
   "id": "3a3cf3bf",
   "metadata": {},
   "source": [
    "### Create a function to preprocess the text\n",
    "* Remove any stopwords\n",
    "* Convert all text into lowercase\n",
    "* Lemmatize the text\n",
    "* Remove any special symbols or characters"
   ]
  },
  {
   "cell_type": "code",
   "execution_count": 75,
   "id": "b9514bf9",
   "metadata": {},
   "outputs": [],
   "source": [
    "import re\n",
    "from nltk.corpus import stopwords\n",
    "from nltk.stem import WordNetLemmatizer"
   ]
  },
  {
   "cell_type": "code",
   "execution_count": 76,
   "id": "7dcf3f03",
   "metadata": {},
   "outputs": [],
   "source": [
    "# def preprocess(phrase):\n",
    "#     text = re.sub(r\"[^ a-zA-Z0-9]\",' ',phrase).split()\n",
    "#     words = [x.lower() for x in text if x not in stopwords.words('english')]\n",
    "#     lm = WordNetLemmatizer()\n",
    "#     word = [lm.lemmatize (word,'v') for word in words]\n",
    "    \n",
    "#     word = ' '.join(word)\n",
    "#     return word\n"
   ]
  },
  {
   "cell_type": "code",
   "execution_count": 77,
   "id": "1cf0e47e",
   "metadata": {},
   "outputs": [],
   "source": [
    "def preprocess(sentence):\n",
    "    text = re.sub(r\"[^a-zA-Z0-9]\",' ',sentence).split()\n",
    "    \n",
    "    words = [x.lower() for x in text if x not in stopwords.words('english')] \n",
    "    \n",
    "    lm = WordNetLemmatizer()\n",
    "    \n",
    "    word = [lm.lemmatize(word,'v') for word in words]\n",
    "    \n",
    "    word = ' '.join(word)\n",
    "    \n",
    "    return word"
   ]
  },
  {
   "cell_type": "code",
   "execution_count": 79,
   "id": "9056a810",
   "metadata": {},
   "outputs": [],
   "source": [
    "df['Plot'] = df['Plot'].apply(preprocess)"
   ]
  },
  {
   "cell_type": "code",
   "execution_count": 80,
   "id": "c6145eb2",
   "metadata": {},
   "outputs": [
    {
     "data": {
      "text/html": [
       "<div>\n",
       "<style scoped>\n",
       "    .dataframe tbody tr th:only-of-type {\n",
       "        vertical-align: middle;\n",
       "    }\n",
       "\n",
       "    .dataframe tbody tr th {\n",
       "        vertical-align: top;\n",
       "    }\n",
       "\n",
       "    .dataframe thead th {\n",
       "        text-align: right;\n",
       "    }\n",
       "</style>\n",
       "<table border=\"1\" class=\"dataframe\">\n",
       "  <thead>\n",
       "    <tr style=\"text-align: right;\">\n",
       "      <th></th>\n",
       "      <th>Genre</th>\n",
       "      <th>Plot</th>\n",
       "    </tr>\n",
       "  </thead>\n",
       "  <tbody>\n",
       "    <tr>\n",
       "      <th>0</th>\n",
       "      <td>drama</td>\n",
       "      <td>listen conversation doctor parent 10 year old ...</td>\n",
       "    </tr>\n",
       "    <tr>\n",
       "      <th>1</th>\n",
       "      <td>thriller</td>\n",
       "      <td>brother sister past incestuous relationship cu...</td>\n",
       "    </tr>\n",
       "    <tr>\n",
       "      <th>2</th>\n",
       "      <td>adult</td>\n",
       "      <td>bus empty students field trip museum natural h...</td>\n",
       "    </tr>\n",
       "    <tr>\n",
       "      <th>3</th>\n",
       "      <td>drama</td>\n",
       "      <td>help unemployed father make end meet edith twi...</td>\n",
       "    </tr>\n",
       "    <tr>\n",
       "      <th>4</th>\n",
       "      <td>drama</td>\n",
       "      <td>film title refer un recover body grind zero al...</td>\n",
       "    </tr>\n",
       "  </tbody>\n",
       "</table>\n",
       "</div>"
      ],
      "text/plain": [
       "      Genre                                               Plot\n",
       "0     drama  listen conversation doctor parent 10 year old ...\n",
       "1  thriller  brother sister past incestuous relationship cu...\n",
       "2     adult  bus empty students field trip museum natural h...\n",
       "3     drama  help unemployed father make end meet edith twi...\n",
       "4     drama  film title refer un recover body grind zero al..."
      ]
     },
     "execution_count": 80,
     "metadata": {},
     "output_type": "execute_result"
    }
   ],
   "source": [
    "df.head()"
   ]
  },
  {
   "cell_type": "code",
   "execution_count": null,
   "id": "3a5bd339",
   "metadata": {},
   "outputs": [],
   "source": []
  },
  {
   "cell_type": "markdown",
   "id": "f5082031",
   "metadata": {},
   "source": [
    "### Print some of the text in Plot after the preprocess"
   ]
  },
  {
   "cell_type": "code",
   "execution_count": 81,
   "id": "e2037154",
   "metadata": {},
   "outputs": [
    {
     "name": "stdout",
     "output_type": "stream",
     "text": [
      "listen conversation doctor parent 10 year old oscar learn nobody courage tell weeks live furious refuse speak anyone except straight talk rise lady pink meet hospital stairs christmas approach rise use fantastical experience professional wrestler imagination wit charm allow oscar live life love full company friends pop corn einstein bacon childhood sweetheart peggy blue\n",
      "\n",
      "brother sister past incestuous relationship current murderous relationship murder women reject murder women get close\n",
      "\n",
      "bus empty students field trip museum natural history little tour guide suspect students another tour first lecture film coeds drift dream erotic fantasy one imagine film release emotion fantasy erotic uncommon ways one slip curator office little acquisition another find anthropologist see bone identify even head teacher immune soon tour bus depart everyone admit quite education\n",
      "\n",
      "help unemployed father make end meet edith twin sister grace work seamstresses invalid grace fall prey temptations chinatown opium become addict condition worsen misguide physician prescribe morphine ease pain father strike oil family enjoy new prosperity sisters meet eligible jack herron fellow oil prospector grace shock jack fall love edith jealousy grace tell jack edith drug problem hint sister soon need morphine grace arrange dinner chinatown couple sister jack dance grace slip away opium den edith follow end wrong den arrest ensue drug raid bail jail edith take angry jack search grace stumble across half conscious body lie street truth sisters reveal send grace sanitarium country jack edith marry\n",
      "\n"
     ]
    }
   ],
   "source": [
    "for i in range(4):\n",
    "    print(df['Plot'][i])\n",
    "    print()"
   ]
  },
  {
   "cell_type": "code",
   "execution_count": 51,
   "id": "93faff18",
   "metadata": {},
   "outputs": [
    {
     "name": "stdout",
     "output_type": "stream",
     "text": [
      "listen conversation doctor parent 10 year old oscar learn nobody courage tell he weeks live furious refuse speak anyone except straight talk rise lady pink meet hospital stairs as christmas approach rise use fantastical experience professional wrestler imagination wit charm allow oscar live life love full company friends pop corn einstein bacon childhood sweetheart peggy blue\n",
      "\n",
      "a brother sister past incestuous relationship current murderous relationship he murder women reject murder women get close\n",
      "\n",
      "as bus empty students field trip museum natural history little tour guide suspect students another tour first lecture film coeds drift dream erotic fantasy one imagine after film release emotion fantasy erotic uncommon ways one slip curator office little acquisition another find anthropologist see bone identify even head teacher immune soon tour bus depart everyone admit quite education\n",
      "\n",
      "to help unemployed father make end meet edith twin sister grace work seamstresses an invalid grace fall prey temptations chinatown opium become addict condition worsen misguide physician prescribe morphine ease pain when father strike oil family enjoy new prosperity sisters meet eligible jack herron fellow oil prospector to grace shock jack fall love edith jealousy grace tell jack edith drug problem hint sister soon need morphine grace arrange dinner chinatown couple while sister jack dance grace slip away opium den edith follow end wrong den arrest ensue drug raid after bail jail edith take angry jack search grace stumble across half conscious body lie street the truth sisters reveal send grace sanitarium country jack edith marry\n",
      "\n",
      "the film title refer un recover body grind zero also state nation large set hallucinatory period time september 11 halloween 2001 the unrecovered examine effect terror average mind way state heighten anxiety alertness cause average person make sort imaginative connections normally make artists conspiracy theorists figure prominently film the unrecovered explore way irony empathy paranoia relate one another wake 9 11\n",
      "\n",
      "quality control consist series 16mm single take shots film summer 2010 two day period dry cleaners facility pritchard alabama near mobile quality control exhibit act well condition around labor showcases everson word fine folks alabama produce superior product it similar stylistically form rhythm certain scenarios everson award win critically acclaim previous film include erie iffr 2010 thematic concern several short form work follow daily quotidian task workers rest motion oblique sequel ten years hence everson creative capital grant project a week hole 2001 focus employee adjustment materials time space personnel quality control consist series 16mm single take shots film two day period summer 2010 dry cleaners facility pritchard alabama near mobile quality control exhibit act well condition around labor it similar stylistically form rhythm certain scenarios everson award win critically acclaim previous film include erie iffr 2010 thematic concern several\n",
      "\n",
      "in tough economic time max joey run ideas discover senior house cheap not max aunt kick bucket one know yet in hilarious series always keep toe two friends take us cross dress desperate endear ride break\n",
      "\n",
      "ron petrie keanu reeve trouble teen whose life hang thread verge suspension school subject arrest break enter cause single mother impend eviction apartment unless find resolution option seem life street crime\n",
      "\n",
      "a sudden calamitous event cause great loss life damage hardship like flood tornado airplane crash earthquake this documentary live account dramatic events real time in unique 13 part series eyewitness greatest disasters last 100 years rare opportunity compare disasters across time distance decide think worst\n",
      "\n",
      "four high school students embark terrify journey shadowview manor 2 years horrify ance go wrong intern raven decide reconnect elementary school friends kota william jessica bring new workplace shadowview manor bite paranormal investigate hear forbid secrets night janitor send dark descend spiral terror\n",
      "\n"
     ]
    }
   ],
   "source": []
  },
  {
   "cell_type": "markdown",
   "id": "a7827635",
   "metadata": {},
   "source": [
    "### Split the dataset into training and testing set"
   ]
  },
  {
   "cell_type": "code",
   "execution_count": 82,
   "id": "8d197161",
   "metadata": {},
   "outputs": [],
   "source": [
    "x = df['Plot']\n",
    "y = genre"
   ]
  },
  {
   "cell_type": "code",
   "execution_count": 83,
   "id": "2c65ce6f",
   "metadata": {},
   "outputs": [
    {
     "data": {
      "application/javascript": [
       "\n",
       "        if (window._pyforest_update_imports_cell) { window._pyforest_update_imports_cell('import gensim\\nfrom sklearn.model_selection import train_test_split'); }\n",
       "    "
      ],
      "text/plain": [
       "<IPython.core.display.Javascript object>"
      ]
     },
     "metadata": {},
     "output_type": "display_data"
    }
   ],
   "source": [
    "xtrain,xtest,ytrain,ytest = train_test_split(x,y,test_size=0.2)"
   ]
  },
  {
   "cell_type": "markdown",
   "id": "ada5e40f",
   "metadata": {},
   "source": [
    "### Convert text in Plot to vectors with Keras Tokenizer, Also add padding"
   ]
  },
  {
   "cell_type": "code",
   "execution_count": 84,
   "id": "ac58e398",
   "metadata": {},
   "outputs": [],
   "source": [
    "from keras.preprocessing.text import Tokenizer\n",
    "from keras.preprocessing.sequence import pad_sequences"
   ]
  },
  {
   "cell_type": "code",
   "execution_count": 86,
   "id": "5953b61a",
   "metadata": {},
   "outputs": [
    {
     "data": {
      "text/plain": [
       "<keras_preprocessing.text.Tokenizer at 0x7f5c0841c610>"
      ]
     },
     "execution_count": 86,
     "metadata": {},
     "output_type": "execute_result"
    }
   ],
   "source": [
    "tokenize = Tokenizer(num_words=5000)\n",
    "tokenize.fit_on_texts(xtrain)\n",
    "vocab_size  = len(tokenize.word_index)+1\n",
    "tokenize"
   ]
  },
  {
   "cell_type": "code",
   "execution_count": 87,
   "id": "91cac4a6",
   "metadata": {},
   "outputs": [],
   "source": [
    "def text_encoding(txt):\n",
    "    encoded_docs = tokenize.texts_to_sequences(txt)\n",
    "    padded_seq = pad_sequences(encoded_docs,maxlen=128)\n",
    "    return padded_seq"
   ]
  },
  {
   "cell_type": "code",
   "execution_count": 88,
   "id": "87cc022d",
   "metadata": {},
   "outputs": [],
   "source": [
    "xtrain = text_encoding(xtrain)\n",
    "xtest = text_encoding(xtest)"
   ]
  },
  {
   "cell_type": "code",
   "execution_count": null,
   "id": "e31370a9",
   "metadata": {},
   "outputs": [],
   "source": []
  },
  {
   "cell_type": "markdown",
   "id": "681594c8",
   "metadata": {},
   "source": [
    "### Create a keras Sequential model with the following layers\n",
    "* Embedding Layer\n",
    "* 2 LSTM Layers\n",
    "* 2 Dropout Layers"
   ]
  },
  {
   "cell_type": "code",
   "execution_count": 89,
   "id": "60e93198",
   "metadata": {},
   "outputs": [],
   "source": [
    "from keras import Sequential\n",
    "from keras import layers"
   ]
  },
  {
   "cell_type": "code",
   "execution_count": 96,
   "id": "5a0f946f",
   "metadata": {},
   "outputs": [],
   "source": [
    "model = Sequential()\n",
    "\n",
    "model.add(layers.Embedding(vocab_size,128))\n",
    "\n",
    "model.add(layers.LSTM(128,return_sequences=True))\n",
    "model.add(layers.Dropout(0.2))\n",
    "\n",
    "model.add(layers.LSTM(128))\n",
    "model.add(layers.Dense(64,activation='relu'))\n",
    "model.add(layers.Dropout(0.2))\n",
    "\n",
    "model.add(layers.Dense(28,activation='softmax'))\n",
    "\n"
   ]
  },
  {
   "cell_type": "code",
   "execution_count": 73,
   "id": "a2c24c17",
   "metadata": {},
   "outputs": [],
   "source": []
  },
  {
   "cell_type": "markdown",
   "id": "71130dd5",
   "metadata": {},
   "source": [
    "### Check the summary of your model"
   ]
  },
  {
   "cell_type": "code",
   "execution_count": 97,
   "id": "9e6bb5f0",
   "metadata": {},
   "outputs": [
    {
     "name": "stdout",
     "output_type": "stream",
     "text": [
      "Model: \"sequential_1\"\n",
      "_________________________________________________________________\n",
      " Layer (type)                Output Shape              Param #   \n",
      "=================================================================\n",
      " embedding_1 (Embedding)     (None, None, 128)         12207104  \n",
      "                                                                 \n",
      " lstm_2 (LSTM)               (None, None, 128)         131584    \n",
      "                                                                 \n",
      " dropout_2 (Dropout)         (None, None, 128)         0         \n",
      "                                                                 \n",
      " lstm_3 (LSTM)               (None, 128)               131584    \n",
      "                                                                 \n",
      " dense_2 (Dense)             (None, 64)                8256      \n",
      "                                                                 \n",
      " dropout_3 (Dropout)         (None, 64)                0         \n",
      "                                                                 \n",
      " dense_3 (Dense)             (None, 28)                1820      \n",
      "                                                                 \n",
      "=================================================================\n",
      "Total params: 12,480,348\n",
      "Trainable params: 12,480,348\n",
      "Non-trainable params: 0\n",
      "_________________________________________________________________\n"
     ]
    }
   ],
   "source": [
    "model.summary()"
   ]
  },
  {
   "cell_type": "markdown",
   "id": "b1181311",
   "metadata": {},
   "source": [
    "### Compile the model"
   ]
  },
  {
   "cell_type": "code",
   "execution_count": 98,
   "id": "1f80d59a",
   "metadata": {},
   "outputs": [],
   "source": [
    "model.compile(optimizer='adam',loss='binary_crossentropy',metrics=['accuracy'])"
   ]
  },
  {
   "cell_type": "markdown",
   "id": "bbd99acd",
   "metadata": {},
   "source": [
    "### Train the model"
   ]
  },
  {
   "cell_type": "code",
   "execution_count": 100,
   "id": "0568e03e",
   "metadata": {},
   "outputs": [
    {
     "name": "stdout",
     "output_type": "stream",
     "text": [
      "Epoch 1/5\n",
      "1150/1150 [==============================] - 283s 247ms/step - loss: 0.1000 - accuracy: 0.4450 - val_loss: 0.0959 - val_accuracy: 0.4577\n",
      "Epoch 2/5\n",
      "1150/1150 [==============================] - 299s 260ms/step - loss: 0.0938 - accuracy: 0.4738 - val_loss: 0.1003 - val_accuracy: 0.4380\n",
      "Epoch 3/5\n",
      "1150/1150 [==============================] - 296s 257ms/step - loss: 0.0893 - accuracy: 0.5072 - val_loss: 0.0890 - val_accuracy: 0.5053\n",
      "Epoch 4/5\n",
      "1150/1150 [==============================] - 299s 260ms/step - loss: 0.0832 - accuracy: 0.5405 - val_loss: 0.0893 - val_accuracy: 0.5052\n",
      "Epoch 5/5\n",
      "1150/1150 [==============================] - 274s 238ms/step - loss: 0.0802 - accuracy: 0.5576 - val_loss: 0.0883 - val_accuracy: 0.5110\n"
     ]
    },
    {
     "data": {
      "text/plain": [
       "<keras.callbacks.History at 0x7f5b85078cd0>"
      ]
     },
     "execution_count": 100,
     "metadata": {},
     "output_type": "execute_result"
    }
   ],
   "source": [
    "model.fit(xtrain,ytrain,epochs=5,validation_split=0.15)"
   ]
  },
  {
   "cell_type": "markdown",
   "id": "27cdd995",
   "metadata": {},
   "source": [
    "### Evaluate the model"
   ]
  },
  {
   "cell_type": "code",
   "execution_count": 103,
   "id": "55dbd83c",
   "metadata": {},
   "outputs": [
    {
     "name": "stdout",
     "output_type": "stream",
     "text": [
      "1353/1353 [==============================] - 54s 40ms/step - loss: 0.0761 - accuracy: 0.5801\n"
     ]
    },
    {
     "data": {
      "text/plain": [
       "[0.07608465105295181, 0.5800758004188538]"
      ]
     },
     "execution_count": 103,
     "metadata": {},
     "output_type": "execute_result"
    }
   ],
   "source": [
    "model.evaluate(xtrain,ytrain)"
   ]
  },
  {
   "cell_type": "markdown",
   "id": "d782b272",
   "metadata": {},
   "source": [
    "### Make predictions with X_test"
   ]
  },
  {
   "cell_type": "code",
   "execution_count": 104,
   "id": "3369fead",
   "metadata": {},
   "outputs": [],
   "source": [
    "ypred = model.predict(xtest)"
   ]
  },
  {
   "cell_type": "markdown",
   "id": "dbf2a0f9",
   "metadata": {},
   "source": [
    "### Check the accuracy score"
   ]
  },
  {
   "cell_type": "code",
   "execution_count": 105,
   "id": "21e5e53d",
   "metadata": {},
   "outputs": [],
   "source": [
    "from sklearn.metrics import accuracy_score,confusion_matrix,classification_report"
   ]
  },
  {
   "cell_type": "code",
   "execution_count": 120,
   "id": "fa2ad1c3",
   "metadata": {},
   "outputs": [],
   "source": [
    "ytest = [np.argmax(i) for i in ytest] "
   ]
  },
  {
   "cell_type": "code",
   "execution_count": 121,
   "id": "89c3caab",
   "metadata": {},
   "outputs": [],
   "source": [
    "ypred = [np.argmax(i) for i in ypred]"
   ]
  },
  {
   "cell_type": "code",
   "execution_count": 122,
   "id": "3f1fa303",
   "metadata": {},
   "outputs": [
    {
     "name": "stdout",
     "output_type": "stream",
     "text": [
      "0.5075316514185381\n"
     ]
    }
   ],
   "source": [
    "print(accuracy_score(ytest,ypred))"
   ]
  },
  {
   "cell_type": "markdown",
   "id": "cba7ab6b",
   "metadata": {},
   "source": [
    "### Plot confusion matrix on a heatmap"
   ]
  },
  {
   "cell_type": "code",
   "execution_count": 124,
   "id": "d5309504",
   "metadata": {},
   "outputs": [
    {
     "data": {
      "text/plain": [
       "<AxesSubplot:>"
      ]
     },
     "execution_count": 124,
     "metadata": {},
     "output_type": "execute_result"
    },
    {
     "data": {
      "image/png": "[encoded data removed]",
      "text/plain": [
       "<Figure size 576x576 with 2 Axes>"
      ]
     },
     "metadata": {
      "needs_background": "light"
     },
     "output_type": "display_data"
    }
   ],
   "source": [
    "\n",
    "plt.figure(figsize=(8,8))\n",
    "sns.heatmap(confusion_matrix(ytest,ypred),annot=True,fmt='d')"
   ]
  },
  {
   "cell_type": "markdown",
   "id": "40b0110c",
   "metadata": {},
   "source": [
    "### Print Classification report"
   ]
  },
  {
   "cell_type": "code",
   "execution_count": 125,
   "id": "6a07dbf1",
   "metadata": {},
   "outputs": [
    {
     "name": "stdout",
     "output_type": "stream",
     "text": [
      "              precision    recall  f1-score   support\n",
      "\n",
      "           1       0.00      0.00      0.00       243\n",
      "           2       0.00      0.00      0.00       126\n",
      "           3       0.00      0.00      0.00       149\n",
      "           4       0.00      0.00      0.00        96\n",
      "           5       0.00      0.00      0.00        51\n",
      "           6       0.41      0.69      0.51      1515\n",
      "           7       0.00      0.00      0.00       114\n",
      "           8       0.65      0.81      0.72      2590\n",
      "           9       0.55      0.69      0.61      2715\n",
      "          10       0.00      0.00      0.00       154\n",
      "          11       0.00      0.00      0.00        76\n",
      "          12       0.00      0.00      0.00        37\n",
      "          13       0.00      0.00      0.00        48\n",
      "          14       0.31      0.52      0.39       459\n",
      "          15       0.28      0.16      0.20       150\n",
      "          16       0.00      0.00      0.00        66\n",
      "          17       0.00      0.00      0.00        61\n",
      "          18       0.00      0.00      0.00        36\n",
      "          19       0.07      0.01      0.01       177\n",
      "          20       0.00      0.00      0.00       130\n",
      "          21       0.04      0.01      0.01       120\n",
      "          22       0.21      0.11      0.15      1017\n",
      "          23       0.00      0.00      0.00        83\n",
      "          24       0.00      0.00      0.00        79\n",
      "          25       0.11      0.01      0.02       308\n",
      "          26       0.00      0.00      0.00        31\n",
      "          27       0.61      0.55      0.58       190\n",
      "\n",
      "    accuracy                           0.51     10821\n",
      "   macro avg       0.12      0.13      0.12     10821\n",
      "weighted avg       0.40      0.51      0.44     10821\n",
      "\n"
     ]
    },
    {
     "name": "stderr",
     "output_type": "stream",
     "text": [
      "/home/susan/.local/lib/python3.8/site-packages/sklearn/metrics/_classification.py:1248: UndefinedMetricWarning: Precision and F-score are ill-defined and being set to 0.0 in labels with no predicted samples. Use `zero_division` parameter to control this behavior.\n",
      "  _warn_prf(average, modifier, msg_start, len(result))\n",
      "/home/susan/.local/lib/python3.8/site-packages/sklearn/metrics/_classification.py:1248: UndefinedMetricWarning: Precision and F-score are ill-defined and being set to 0.0 in labels with no predicted samples. Use `zero_division` parameter to control this behavior.\n",
      "  _warn_prf(average, modifier, msg_start, len(result))\n",
      "/home/susan/.local/lib/python3.8/site-packages/sklearn/metrics/_classification.py:1248: UndefinedMetricWarning: Precision and F-score are ill-defined and being set to 0.0 in labels with no predicted samples. Use `zero_division` parameter to control this behavior.\n",
      "  _warn_prf(average, modifier, msg_start, len(result))\n"
     ]
    }
   ],
   "source": [
    "print(classification_report(ytest,ypred))"
   ]
  },
  {
   "cell_type": "markdown",
   "id": "5f7b1bc1",
   "metadata": {},
   "source": [
    "****"
   ]
  }
 ],
 "metadata": {
  "kernelspec": {
   "display_name": "Python 3",
   "language": "python",
   "name": "python3"
  },
  "language_info": {
   "codemirror_mode": {
    "name": "ipython",
    "version": 3
   },
   "file_extension": ".py",
   "mimetype": "text/x-python",
   "name": "python",
   "nbconvert_exporter": "python",
   "pygments_lexer": "ipython3",
   "version": "3.8.8"
  }
 },
 "nbformat": 4,
 "nbformat_minor": 5
}
